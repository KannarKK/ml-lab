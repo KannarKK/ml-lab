{
  "nbformat": 4,
  "nbformat_minor": 0,
  "metadata": {
    "accelerator": "GPU",
    "colab": {
      "name": "C4_W4_Assignment.ipynb",
      "provenance": [],
      "collapsed_sections": [],
      "toc_visible": true,
      "include_colab_link": true
    },
    "kernelspec": {
      "display_name": "Python 3",
      "language": "python",
      "name": "python3"
    },
    "language_info": {
      "codemirror_mode": {
        "name": "ipython",
        "version": 3
      },
      "file_extension": ".py",
      "mimetype": "text/x-python",
      "name": "python",
      "nbconvert_exporter": "python",
      "pygments_lexer": "ipython3",
      "version": "3.8.5"
    }
  },
  "cells": [
    {
      "cell_type": "markdown",
      "metadata": {
        "id": "view-in-github",
        "colab_type": "text"
      },
      "source": [
        "<a href=\"https://colab.research.google.com/github/KannarKK/ml-lab/blob/main/time-series/Conv_LSTM.ipynb\" target=\"_parent\"><img src=\"https://colab.research.google.com/assets/colab-badge.svg\" alt=\"Open In Colab\"/></a>"
      ]
    },
    {
      "cell_type": "code",
      "metadata": {
        "id": "zX4Kg8DUTKWO"
      },
      "source": [
        "#@title Licensed under the Apache License, Version 2.0 (the \"License\");\n",
        "# you may not use this file except in compliance with the License.\n",
        "# You may obtain a copy of the License at\n",
        "#\n",
        "# https://www.apache.org/licenses/LICENSE-2.0\n",
        "#\n",
        "# Unless required by applicable law or agreed to in writing, software\n",
        "# distributed under the License is distributed on an \"AS IS\" BASIS,\n",
        "# WITHOUT WARRANTIES OR CONDITIONS OF ANY KIND, either express or implied.\n",
        "# See the License for the specific language governing permissions and\n",
        "# limitations under the License."
      ],
      "execution_count": null,
      "outputs": []
    },
    {
      "cell_type": "markdown",
      "metadata": {
        "id": "1m0njwZtsvy_"
      },
      "source": [
        "**Note:** This notebook can run using TensorFlow 2.5.0"
      ]
    },
    {
      "cell_type": "code",
      "metadata": {
        "id": "D5DDeGwLsvzA"
      },
      "source": [
        "#!pip install tensorflow==2.5.0"
      ],
      "execution_count": null,
      "outputs": []
    },
    {
      "cell_type": "code",
      "metadata": {
        "id": "56XEQOGknrAk",
        "outputId": "22915ebf-3580-40cc-a665-6197b0825306",
        "colab": {
          "base_uri": "https://localhost:8080/"
        }
      },
      "source": [
        "import tensorflow as tf\n",
        "print(tf.__version__)"
      ],
      "execution_count": 1,
      "outputs": [
        {
          "output_type": "stream",
          "name": "stdout",
          "text": [
            "2.8.0\n"
          ]
        }
      ]
    },
    {
      "cell_type": "code",
      "metadata": {
        "id": "sLl52leVp5wU"
      },
      "source": [
        "import numpy as np\n",
        "import matplotlib.pyplot as plt\n",
        "def plot_series(time, series, format=\"-\", start=0, end=None):\n",
        "    plt.plot(time[start:end], series[start:end], format)\n",
        "    plt.xlabel(\"Time\")\n",
        "    plt.ylabel(\"Value\")\n",
        "    plt.grid(True)"
      ],
      "execution_count": 2,
      "outputs": []
    },
    {
      "cell_type": "code",
      "metadata": {
        "id": "tP7oqUdkk0gY",
        "outputId": "b28f3fad-145a-48d9-f33b-fc73ce0378af",
        "colab": {
          "base_uri": "https://localhost:8080/"
        }
      },
      "source": [
        "!wget --no-check-certificate \\\n",
        "    https://raw.githubusercontent.com/jbrownlee/Datasets/master/daily-min-temperatures.csv \\\n",
        "    -O /tmp/daily-min-temperatures.csv"
      ],
      "execution_count": 3,
      "outputs": [
        {
          "output_type": "stream",
          "name": "stdout",
          "text": [
            "--2022-02-27 05:53:45--  https://raw.githubusercontent.com/jbrownlee/Datasets/master/daily-min-temperatures.csv\n",
            "Resolving raw.githubusercontent.com (raw.githubusercontent.com)... 185.199.108.133, 185.199.109.133, 185.199.110.133, ...\n",
            "Connecting to raw.githubusercontent.com (raw.githubusercontent.com)|185.199.108.133|:443... connected.\n",
            "HTTP request sent, awaiting response... 200 OK\n",
            "Length: 67921 (66K) [text/plain]\n",
            "Saving to: ‘/tmp/daily-min-temperatures.csv’\n",
            "\n",
            "/tmp/daily-min-temp 100%[===================>]  66.33K  --.-KB/s    in 0.008s  \n",
            "\n",
            "2022-02-27 05:53:45 (8.53 MB/s) - ‘/tmp/daily-min-temperatures.csv’ saved [67921/67921]\n",
            "\n"
          ]
        }
      ]
    },
    {
      "cell_type": "code",
      "metadata": {
        "id": "NcG9r1eClbTh",
        "outputId": "b37e5b02-38a3-4878-9642-438a12c028b2",
        "colab": {
          "base_uri": "https://localhost:8080/",
          "height": 388
        }
      },
      "source": [
        "import csv\n",
        "time_step = []\n",
        "temps = []\n",
        "\n",
        "with open('/tmp/daily-min-temperatures.csv') as csvfile:\n",
        "  reader = csv.reader(csvfile, delimiter=',')\n",
        "  next(reader)\n",
        "  index = 0\n",
        "  for row in reader:\n",
        "    temps.append(float(row[1]))\n",
        "    time_step.append(index)\n",
        "    index = index + 1\n",
        "\n",
        "series = np.array(temps)\n",
        "time = np.array(time_step)\n",
        "plt.figure(figsize=(10, 6))\n",
        "plot_series(time, series)"
      ],
      "execution_count": 4,
      "outputs": [
        {
          "output_type": "display_data",
          "data": {
            "image/png": "[encoded data removed]",
            "text/plain": [
              "<Figure size 720x432 with 1 Axes>"
            ]
          },
          "metadata": {
            "needs_background": "light"
          }
        }
      ]
    },
    {
      "cell_type": "code",
      "source": [
        "min(series), max(series)"
      ],
      "metadata": {
        "id": "ZsJQN6Ov038A",
        "outputId": "fb7ff089-7ef7-40e8-f4f1-fcbf7726b195",
        "colab": {
          "base_uri": "https://localhost:8080/"
        }
      },
      "execution_count": 26,
      "outputs": [
        {
          "output_type": "execute_result",
          "data": {
            "text/plain": [
              "(0.0, 26.3)"
            ]
          },
          "metadata": {},
          "execution_count": 26
        }
      ]
    },
    {
      "cell_type": "code",
      "metadata": {
        "id": "L92YRw_IpCFG"
      },
      "source": [
        "split_time = 2500\n",
        "time_train = time[:split_time] \n",
        "x_train = series[:split_time] \n",
        "time_valid = time[split_time:] \n",
        "x_valid = series[split_time:] \n",
        "\n",
        "window_size = 30\n",
        "batch_size = 32\n",
        "shuffle_buffer_size = 1000\n"
      ],
      "execution_count": 5,
      "outputs": []
    },
    {
      "cell_type": "code",
      "metadata": {
        "id": "lJwUUZscnG38"
      },
      "source": [
        "def windowed_dataset(series, window_size, batch_size, shuffle_buffer):\n",
        "    series = tf.expand_dims(series, axis=-1)\n",
        "    ds = tf.data.Dataset.from_tensor_slices(series)\n",
        "    ds = ds.window(window_size + 1, shift=1, drop_remainder=True)\n",
        "    ds = ds.flat_map(lambda w: w.batch(window_size + 1))\n",
        "    ds = ds.shuffle(shuffle_buffer)\n",
        "    ds = ds.map(lambda w: (w[:-1], w[1:]))\n",
        "    return ds.batch(batch_size).prefetch(1)\n",
        "    # YOUR CODE HERE"
      ],
      "execution_count": 10,
      "outputs": []
    },
    {
      "cell_type": "code",
      "metadata": {
        "id": "4XwGrf-A_wF0"
      },
      "source": [
        "def model_forecast(model, series, window_size):\n",
        "    ds = tf.data.Dataset.from_tensor_slices(series)\n",
        "    ds = ds.window(window_size, shift=1, drop_remainder=True)\n",
        "    ds = ds.flat_map(lambda w: w.batch(window_size))\n",
        "    ds = ds.batch(32).prefetch(1)\n",
        "    forecast = model.predict(ds)\n",
        "    return forecast\n",
        "    # YOUR CODE HERE"
      ],
      "execution_count": 19,
      "outputs": []
    },
    {
      "cell_type": "code",
      "metadata": {
        "id": "AclfYY3Mn6Ph",
        "outputId": "cdb70697-9e24-4817-a531-a9dcfe0c2c62",
        "colab": {
          "base_uri": "https://localhost:8080/"
        }
      },
      "source": [
        "tf.keras.backend.clear_session()\n",
        "tf.random.set_seed(51)\n",
        "np.random.seed(51)\n",
        "window_size = 64\n",
        "batch_size = 256\n",
        "train_set = windowed_dataset(x_train, window_size, batch_size, shuffle_buffer_size)\n",
        "print(train_set)\n",
        "print(x_train.shape)\n",
        "\n",
        "model = tf.keras.models.Sequential([\n",
        "  tf.keras.layers.Conv1D(filters=32, kernel_size=5,\n",
        "                      strides=1, padding=\"causal\",\n",
        "                      activation=\"relu\",\n",
        "                      input_shape=[None, 1]),\n",
        "  tf.keras.layers.LSTM(64, return_sequences=True),\n",
        "  tf.keras.layers.LSTM(64, return_sequences=True),\n",
        "  tf.keras.layers.Dense(30, activation=\"relu\"),\n",
        "  tf.keras.layers.Dense(10, activation=\"relu\"),\n",
        "  tf.keras.layers.Dense(1),\n",
        "  tf.keras.layers.Lambda(lambda x: x * 400) \n",
        "])\n",
        "\n",
        "lr_schedule = tf.keras.callbacks.LearningRateScheduler(\n",
        "    lambda epoch: 1e-8 * 10**(epoch / 20))\n",
        "optimizer = tf.keras.optimizers.SGD(learning_rate=1e-8, momentum=0.9)\n",
        "model.compile(loss=tf.keras.losses.Huber(),\n",
        "              optimizer=optimizer,\n",
        "              metrics=[\"mae\"])\n",
        "history = model.fit(train_set, epochs=100, callbacks=[lr_schedule])\n"
      ],
      "execution_count": 44,
      "outputs": [
        {
          "output_type": "stream",
          "name": "stdout",
          "text": [
            "<PrefetchDataset element_spec=(TensorSpec(shape=(None, None, 1), dtype=tf.float64, name=None), TensorSpec(shape=(None, None, 1), dtype=tf.float64, name=None))>\n",
            "(2500,)\n",
            "Epoch 1/100\n",
            "10/10 [==============================] - 3s 25ms/step - loss: 31.1571 - mae: 31.6550 - lr: 1.0000e-08\n",
            "Epoch 2/100\n",
            "10/10 [==============================] - 0s 31ms/step - loss: 30.5778 - mae: 31.0756 - lr: 1.1220e-08\n",
            "Epoch 3/100\n",
            "10/10 [==============================] - 0s 31ms/step - loss: 29.6825 - mae: 30.1801 - lr: 1.2589e-08\n",
            "Epoch 4/100\n",
            "10/10 [==============================] - 0s 31ms/step - loss: 28.5613 - mae: 29.0586 - lr: 1.4125e-08\n",
            "Epoch 5/100\n",
            "10/10 [==============================] - 0s 30ms/step - loss: 27.1974 - mae: 27.6945 - lr: 1.5849e-08\n",
            "Epoch 6/100\n",
            "10/10 [==============================] - 0s 30ms/step - loss: 25.5017 - mae: 25.9986 - lr: 1.7783e-08\n",
            "Epoch 7/100\n",
            "10/10 [==============================] - 0s 31ms/step - loss: 23.3464 - mae: 23.8429 - lr: 1.9953e-08\n",
            "Epoch 8/100\n",
            "10/10 [==============================] - 0s 31ms/step - loss: 20.6147 - mae: 21.1108 - lr: 2.2387e-08\n",
            "Epoch 9/100\n",
            "10/10 [==============================] - 0s 31ms/step - loss: 17.3142 - mae: 17.8091 - lr: 2.5119e-08\n",
            "Epoch 10/100\n",
            "10/10 [==============================] - 0s 30ms/step - loss: 13.6448 - mae: 14.1371 - lr: 2.8184e-08\n",
            "Epoch 11/100\n",
            "10/10 [==============================] - 0s 30ms/step - loss: 10.1272 - mae: 10.6152 - lr: 3.1623e-08\n",
            "Epoch 12/100\n",
            "10/10 [==============================] - 0s 31ms/step - loss: 7.6174 - mae: 8.1025 - lr: 3.5481e-08\n",
            "Epoch 13/100\n",
            "10/10 [==============================] - 0s 31ms/step - loss: 6.2869 - mae: 6.7711 - lr: 3.9811e-08\n",
            "Epoch 14/100\n",
            "10/10 [==============================] - 0s 31ms/step - loss: 5.7015 - mae: 6.1856 - lr: 4.4668e-08\n",
            "Epoch 15/100\n",
            "10/10 [==============================] - 0s 33ms/step - loss: 5.3344 - mae: 5.8166 - lr: 5.0119e-08\n",
            "Epoch 16/100\n",
            "10/10 [==============================] - 0s 32ms/step - loss: 4.9409 - mae: 5.4206 - lr: 5.6234e-08\n",
            "Epoch 17/100\n",
            "10/10 [==============================] - 0s 30ms/step - loss: 4.5578 - mae: 5.0338 - lr: 6.3096e-08\n",
            "Epoch 18/100\n",
            "10/10 [==============================] - 0s 31ms/step - loss: 4.2340 - mae: 4.7085 - lr: 7.0795e-08\n",
            "Epoch 19/100\n",
            "10/10 [==============================] - 0s 30ms/step - loss: 3.9611 - mae: 4.4360 - lr: 7.9433e-08\n",
            "Epoch 20/100\n",
            "10/10 [==============================] - 0s 32ms/step - loss: 3.7448 - mae: 4.2177 - lr: 8.9125e-08\n",
            "Epoch 21/100\n",
            "10/10 [==============================] - 0s 31ms/step - loss: 3.5855 - mae: 4.0566 - lr: 1.0000e-07\n",
            "Epoch 22/100\n",
            "10/10 [==============================] - 0s 29ms/step - loss: 3.4641 - mae: 3.9344 - lr: 1.1220e-07\n",
            "Epoch 23/100\n",
            "10/10 [==============================] - 0s 31ms/step - loss: 3.3711 - mae: 3.8414 - lr: 1.2589e-07\n",
            "Epoch 24/100\n",
            "10/10 [==============================] - 0s 31ms/step - loss: 3.2948 - mae: 3.7645 - lr: 1.4125e-07\n",
            "Epoch 25/100\n",
            "10/10 [==============================] - 0s 31ms/step - loss: 3.2288 - mae: 3.6978 - lr: 1.5849e-07\n",
            "Epoch 26/100\n",
            "10/10 [==============================] - 0s 30ms/step - loss: 3.1662 - mae: 3.6346 - lr: 1.7783e-07\n",
            "Epoch 27/100\n",
            "10/10 [==============================] - 0s 32ms/step - loss: 3.1014 - mae: 3.5693 - lr: 1.9953e-07\n",
            "Epoch 28/100\n",
            "10/10 [==============================] - 0s 29ms/step - loss: 3.0380 - mae: 3.5053 - lr: 2.2387e-07\n",
            "Epoch 29/100\n",
            "10/10 [==============================] - 0s 31ms/step - loss: 2.9716 - mae: 3.4379 - lr: 2.5119e-07\n",
            "Epoch 30/100\n",
            "10/10 [==============================] - 0s 29ms/step - loss: 2.9063 - mae: 3.3712 - lr: 2.8184e-07\n",
            "Epoch 31/100\n",
            "10/10 [==============================] - 0s 29ms/step - loss: 2.8452 - mae: 3.3098 - lr: 3.1623e-07\n",
            "Epoch 32/100\n",
            "10/10 [==============================] - 0s 28ms/step - loss: 2.7842 - mae: 3.2479 - lr: 3.5481e-07\n",
            "Epoch 33/100\n",
            "10/10 [==============================] - 0s 31ms/step - loss: 2.7256 - mae: 3.1891 - lr: 3.9811e-07\n",
            "Epoch 34/100\n",
            "10/10 [==============================] - 0s 30ms/step - loss: 2.6740 - mae: 3.1379 - lr: 4.4668e-07\n",
            "Epoch 35/100\n",
            "10/10 [==============================] - 0s 33ms/step - loss: 2.6212 - mae: 3.0848 - lr: 5.0119e-07\n",
            "Epoch 36/100\n",
            "10/10 [==============================] - 0s 30ms/step - loss: 2.5728 - mae: 3.0357 - lr: 5.6234e-07\n",
            "Epoch 37/100\n",
            "10/10 [==============================] - 0s 29ms/step - loss: 2.5254 - mae: 2.9877 - lr: 6.3096e-07\n",
            "Epoch 38/100\n",
            "10/10 [==============================] - 0s 29ms/step - loss: 2.4800 - mae: 2.9415 - lr: 7.0795e-07\n",
            "Epoch 39/100\n",
            "10/10 [==============================] - 0s 29ms/step - loss: 2.4355 - mae: 2.8968 - lr: 7.9433e-07\n",
            "Epoch 40/100\n",
            "10/10 [==============================] - 0s 31ms/step - loss: 2.3933 - mae: 2.8541 - lr: 8.9125e-07\n",
            "Epoch 41/100\n",
            "10/10 [==============================] - 0s 30ms/step - loss: 2.3523 - mae: 2.8124 - lr: 1.0000e-06\n",
            "Epoch 42/100\n",
            "10/10 [==============================] - 1s 60ms/step - loss: 2.3124 - mae: 2.7718 - lr: 1.1220e-06\n",
            "Epoch 43/100\n",
            "10/10 [==============================] - 1s 37ms/step - loss: 2.2730 - mae: 2.7315 - lr: 1.2589e-06\n",
            "Epoch 44/100\n",
            "10/10 [==============================] - 1s 30ms/step - loss: 2.2338 - mae: 2.6913 - lr: 1.4125e-06\n",
            "Epoch 45/100\n",
            "10/10 [==============================] - 0s 32ms/step - loss: 2.1954 - mae: 2.6523 - lr: 1.5849e-06\n",
            "Epoch 46/100\n",
            "10/10 [==============================] - 0s 31ms/step - loss: 2.1622 - mae: 2.6190 - lr: 1.7783e-06\n",
            "Epoch 47/100\n",
            "10/10 [==============================] - 0s 31ms/step - loss: 2.1313 - mae: 2.5877 - lr: 1.9953e-06\n",
            "Epoch 48/100\n",
            "10/10 [==============================] - 0s 29ms/step - loss: 2.1047 - mae: 2.5607 - lr: 2.2387e-06\n",
            "Epoch 49/100\n",
            "10/10 [==============================] - 0s 30ms/step - loss: 2.0740 - mae: 2.5300 - lr: 2.5119e-06\n",
            "Epoch 50/100\n",
            "10/10 [==============================] - 0s 32ms/step - loss: 2.0481 - mae: 2.5040 - lr: 2.8184e-06\n",
            "Epoch 51/100\n",
            "10/10 [==============================] - 0s 28ms/step - loss: 2.0263 - mae: 2.4818 - lr: 3.1623e-06\n",
            "Epoch 52/100\n",
            "10/10 [==============================] - 0s 32ms/step - loss: 2.0048 - mae: 2.4598 - lr: 3.5481e-06\n",
            "Epoch 53/100\n",
            "10/10 [==============================] - 0s 30ms/step - loss: 1.9897 - mae: 2.4444 - lr: 3.9811e-06\n",
            "Epoch 54/100\n",
            "10/10 [==============================] - 0s 32ms/step - loss: 1.9650 - mae: 2.4193 - lr: 4.4668e-06\n",
            "Epoch 55/100\n",
            "10/10 [==============================] - 0s 32ms/step - loss: 1.9469 - mae: 2.4008 - lr: 5.0119e-06\n",
            "Epoch 56/100\n",
            "10/10 [==============================] - 0s 29ms/step - loss: 1.9247 - mae: 2.3783 - lr: 5.6234e-06\n",
            "Epoch 57/100\n",
            "10/10 [==============================] - 0s 32ms/step - loss: 1.9090 - mae: 2.3620 - lr: 6.3096e-06\n",
            "Epoch 58/100\n",
            "10/10 [==============================] - 0s 30ms/step - loss: 1.8863 - mae: 2.3393 - lr: 7.0795e-06\n",
            "Epoch 59/100\n",
            "10/10 [==============================] - 0s 32ms/step - loss: 1.8593 - mae: 2.3120 - lr: 7.9433e-06\n",
            "Epoch 60/100\n",
            "10/10 [==============================] - 0s 28ms/step - loss: 2.1954 - mae: 2.6553 - lr: 8.9125e-06\n",
            "Epoch 61/100\n",
            "10/10 [==============================] - 0s 28ms/step - loss: 2.6859 - mae: 3.1568 - lr: 1.0000e-05\n",
            "Epoch 62/100\n",
            "10/10 [==============================] - 0s 31ms/step - loss: 3.0854 - mae: 3.5613 - lr: 1.1220e-05\n",
            "Epoch 63/100\n",
            "10/10 [==============================] - 0s 31ms/step - loss: 3.5164 - mae: 3.9957 - lr: 1.2589e-05\n",
            "Epoch 64/100\n",
            "10/10 [==============================] - 0s 30ms/step - loss: 3.6558 - mae: 4.1369 - lr: 1.4125e-05\n",
            "Epoch 65/100\n",
            "10/10 [==============================] - 0s 29ms/step - loss: 4.2077 - mae: 4.6942 - lr: 1.5849e-05\n",
            "Epoch 66/100\n",
            "10/10 [==============================] - 0s 31ms/step - loss: 4.3833 - mae: 4.8697 - lr: 1.7783e-05\n",
            "Epoch 67/100\n",
            "10/10 [==============================] - 0s 31ms/step - loss: 4.6322 - mae: 5.1200 - lr: 1.9953e-05\n",
            "Epoch 68/100\n",
            "10/10 [==============================] - 0s 31ms/step - loss: 4.7024 - mae: 5.1886 - lr: 2.2387e-05\n",
            "Epoch 69/100\n",
            "10/10 [==============================] - 0s 30ms/step - loss: 5.0073 - mae: 5.4950 - lr: 2.5119e-05\n",
            "Epoch 70/100\n",
            "10/10 [==============================] - 0s 31ms/step - loss: 4.8775 - mae: 5.3583 - lr: 2.8184e-05\n",
            "Epoch 71/100\n",
            "10/10 [==============================] - 0s 28ms/step - loss: 12.0945 - mae: 12.5833 - lr: 3.1623e-05\n",
            "Epoch 72/100\n",
            "10/10 [==============================] - 0s 31ms/step - loss: 12.5069 - mae: 13.0029 - lr: 3.5481e-05\n",
            "Epoch 73/100\n",
            "10/10 [==============================] - 0s 29ms/step - loss: 11.1776 - mae: 11.6747 - lr: 3.9811e-05\n",
            "Epoch 74/100\n",
            "10/10 [==============================] - 0s 30ms/step - loss: 4.8328 - mae: 5.3137 - lr: 4.4668e-05\n",
            "Epoch 75/100\n",
            "10/10 [==============================] - 0s 30ms/step - loss: 4.6480 - mae: 5.1349 - lr: 5.0119e-05\n",
            "Epoch 76/100\n",
            "10/10 [==============================] - 0s 29ms/step - loss: 4.0873 - mae: 4.5705 - lr: 5.6234e-05\n",
            "Epoch 77/100\n",
            "10/10 [==============================] - 0s 30ms/step - loss: 3.9100 - mae: 4.3890 - lr: 6.3096e-05\n",
            "Epoch 78/100\n",
            "10/10 [==============================] - 1s 31ms/step - loss: 3.7746 - mae: 4.2483 - lr: 7.0795e-05\n",
            "Epoch 79/100\n",
            "10/10 [==============================] - 0s 29ms/step - loss: 4.3265 - mae: 4.8043 - lr: 7.9433e-05\n",
            "Epoch 80/100\n",
            "10/10 [==============================] - 0s 29ms/step - loss: 4.7211 - mae: 5.1983 - lr: 8.9125e-05\n",
            "Epoch 81/100\n",
            "10/10 [==============================] - 0s 30ms/step - loss: 5.4078 - mae: 5.8875 - lr: 1.0000e-04\n",
            "Epoch 82/100\n",
            "10/10 [==============================] - 0s 32ms/step - loss: 22.2110 - mae: 22.7076 - lr: 1.1220e-04\n",
            "Epoch 83/100\n",
            "10/10 [==============================] - 0s 28ms/step - loss: 15.6416 - mae: 16.1390 - lr: 1.2589e-04\n",
            "Epoch 84/100\n",
            "10/10 [==============================] - 0s 31ms/step - loss: 18.8073 - mae: 19.3014 - lr: 1.4125e-04\n",
            "Epoch 85/100\n",
            "10/10 [==============================] - 0s 30ms/step - loss: 23.8783 - mae: 24.3779 - lr: 1.5849e-04\n",
            "Epoch 86/100\n",
            "10/10 [==============================] - 0s 32ms/step - loss: 22.0982 - mae: 22.5947 - lr: 1.7783e-04\n",
            "Epoch 87/100\n",
            "10/10 [==============================] - 0s 29ms/step - loss: 22.3229 - mae: 22.8229 - lr: 1.9953e-04\n",
            "Epoch 88/100\n",
            "10/10 [==============================] - 0s 30ms/step - loss: 18.6828 - mae: 19.1823 - lr: 2.2387e-04\n",
            "Epoch 89/100\n",
            "10/10 [==============================] - 0s 31ms/step - loss: 20.7979 - mae: 21.2969 - lr: 2.5119e-04\n",
            "Epoch 90/100\n",
            "10/10 [==============================] - 0s 31ms/step - loss: 28.0096 - mae: 28.5048 - lr: 2.8184e-04\n",
            "Epoch 91/100\n",
            "10/10 [==============================] - 0s 28ms/step - loss: 33.0576 - mae: 33.5512 - lr: 3.1623e-04\n",
            "Epoch 92/100\n",
            "10/10 [==============================] - 0s 29ms/step - loss: 56.8391 - mae: 57.3377 - lr: 3.5481e-04\n",
            "Epoch 93/100\n",
            "10/10 [==============================] - 0s 30ms/step - loss: 102.5478 - mae: 103.0458 - lr: 3.9811e-04\n",
            "Epoch 94/100\n",
            "10/10 [==============================] - 0s 30ms/step - loss: 100.8866 - mae: 101.3866 - lr: 4.4668e-04\n",
            "Epoch 95/100\n",
            "10/10 [==============================] - 0s 32ms/step - loss: 132.2902 - mae: 132.7902 - lr: 5.0119e-04\n",
            "Epoch 96/100\n",
            "10/10 [==============================] - 0s 31ms/step - loss: 135.7830 - mae: 136.2830 - lr: 5.6234e-04\n",
            "Epoch 97/100\n",
            "10/10 [==============================] - 0s 31ms/step - loss: 157.3686 - mae: 157.8680 - lr: 6.3096e-04\n",
            "Epoch 98/100\n",
            "10/10 [==============================] - 0s 31ms/step - loss: 198.5687 - mae: 199.0669 - lr: 7.0795e-04\n",
            "Epoch 99/100\n",
            "10/10 [==============================] - 0s 32ms/step - loss: 330.0954 - mae: 330.5954 - lr: 7.9433e-04\n",
            "Epoch 100/100\n",
            "10/10 [==============================] - 0s 30ms/step - loss: 211.4986 - mae: 211.9986 - lr: 8.9125e-04\n"
          ]
        }
      ]
    },
    {
      "cell_type": "code",
      "source": [
        "model.summary()"
      ],
      "metadata": {
        "id": "JP8_WuLpxvtx",
        "outputId": "fbbc63b3-d275-4c27-a03b-ba16932973ac",
        "colab": {
          "base_uri": "https://localhost:8080/"
        }
      },
      "execution_count": 45,
      "outputs": [
        {
          "output_type": "stream",
          "name": "stdout",
          "text": [
            "Model: \"sequential\"\n",
            "_________________________________________________________________\n",
            " Layer (type)                Output Shape              Param #   \n",
            "=================================================================\n",
            " conv1d (Conv1D)             (None, None, 32)          192       \n",
            "                                                                 \n",
            " lstm (LSTM)                 (None, None, 64)          24832     \n",
            "                                                                 \n",
            " lstm_1 (LSTM)               (None, None, 64)          33024     \n",
            "                                                                 \n",
            " dense (Dense)               (None, None, 30)          1950      \n",
            "                                                                 \n",
            " dense_1 (Dense)             (None, None, 10)          310       \n",
            "                                                                 \n",
            " dense_2 (Dense)             (None, None, 1)           11        \n",
            "                                                                 \n",
            " lambda (Lambda)             (None, None, 1)           0         \n",
            "                                                                 \n",
            "=================================================================\n",
            "Total params: 60,319\n",
            "Trainable params: 60,319\n",
            "Non-trainable params: 0\n",
            "_________________________________________________________________\n"
          ]
        }
      ]
    },
    {
      "cell_type": "code",
      "metadata": {
        "id": "vVcKmg7Q_7rD",
        "outputId": "ef2aefe1-6526-4213-ab58-fa824a1ae5f3",
        "colab": {
          "base_uri": "https://localhost:8080/",
          "height": 291
        }
      },
      "source": [
        "plt.semilogx(history.history[\"lr\"], history.history[\"loss\"])\n",
        "plt.axis([1e-8, 1e-4, 0, 60])"
      ],
      "execution_count": 46,
      "outputs": [
        {
          "output_type": "execute_result",
          "data": {
            "text/plain": [
              "(1e-08, 0.0001, 0.0, 60.0)"
            ]
          },
          "metadata": {},
          "execution_count": 46
        },
        {
          "output_type": "display_data",
          "data": {
            "image/png": "[encoded data removed]",
            "text/plain": [
              "<Figure size 432x288 with 1 Axes>"
            ]
          },
          "metadata": {
            "needs_background": "light"
          }
        }
      ]
    },
    {
      "cell_type": "code",
      "metadata": {
        "id": "QsksvkcXAAgq",
        "outputId": "aa3780ca-25d4-4b22-e03d-4d10249650dc",
        "colab": {
          "base_uri": "https://localhost:8080/"
        }
      },
      "source": [
        "tf.keras.backend.clear_session()\n",
        "tf.random.set_seed(51)\n",
        "np.random.seed(51)\n",
        "train_set = windowed_dataset(x_train, window_size=60, batch_size=100, shuffle_buffer=shuffle_buffer_size)\n",
        "model = tf.keras.models.Sequential([\n",
        "  tf.keras.layers.Conv1D(filters=64, kernel_size=5,\n",
        "                      strides=1, padding=\"causal\",\n",
        "                      activation=\"relu\",\n",
        "                      input_shape=[None, 1]),\n",
        "  tf.keras.layers.LSTM(128, return_sequences=True),\n",
        "  tf.keras.layers.LSTM(64, return_sequences=True),\n",
        "  tf.keras.layers.Dense(30, activation=\"relu\"),\n",
        "  tf.keras.layers.Dense(10, activation=\"relu\"),\n",
        "  tf.keras.layers.Dense(1),\n",
        "  tf.keras.layers.Lambda(lambda x: x * 400) \n",
        "])\n",
        "\n",
        "early_stopping = tf.keras.callbacks.EarlyStopping(\n",
        "    monitor='loss',\n",
        "    min_delta=0,\n",
        "    patience=5,\n",
        "    mode='auto',\n",
        "    baseline=None,\n",
        "    restore_best_weights=True\n",
        ")\n",
        "reduce_lr_loss = tf.keras.callbacks.ReduceLROnPlateau(monitor='loss', factor=0.1, patience=7, verbose=1, epsilon=1e-4, mode='min')\n",
        "optimizer = tf.keras.optimizers.SGD(learning_rate=1e-5, momentum=0.9)# YOUR CODE HERE, momentum=0.9)\n",
        "model.compile(loss=tf.keras.losses.Huber(),\n",
        "              optimizer=optimizer,\n",
        "              metrics=[\"mae\"])\n",
        "history = model.fit(train_set,epochs=100,\n",
        "              callbacks = [early_stopping, reduce_lr_loss])# YOUR CODE HERE)\n",
        "                                    \n",
        "# EXPECTED OUTPUT SHOULD SEE AN MAE OF <2 WITHIN ABOUT 30 EPOCHS"
      ],
      "execution_count": 49,
      "outputs": [
        {
          "output_type": "stream",
          "name": "stdout",
          "text": [
            "WARNING:tensorflow:`epsilon` argument is deprecated and will be removed, use `min_delta` instead.\n",
            "Epoch 1/100\n",
            "25/25 [==============================] - 4s 21ms/step - loss: 12.8842 - mae: 13.3649 - lr: 1.0000e-05\n",
            "Epoch 2/100\n",
            "25/25 [==============================] - 1s 20ms/step - loss: 2.1510 - mae: 2.6085 - lr: 1.0000e-05\n",
            "Epoch 3/100\n",
            "25/25 [==============================] - 1s 20ms/step - loss: 1.9291 - mae: 2.3821 - lr: 1.0000e-05\n",
            "Epoch 4/100\n",
            "25/25 [==============================] - 1s 19ms/step - loss: 1.8603 - mae: 2.3129 - lr: 1.0000e-05\n",
            "Epoch 5/100\n",
            "25/25 [==============================] - 1s 20ms/step - loss: 1.8119 - mae: 2.2629 - lr: 1.0000e-05\n",
            "Epoch 6/100\n",
            "25/25 [==============================] - 1s 19ms/step - loss: 1.7751 - mae: 2.2252 - lr: 1.0000e-05\n",
            "Epoch 7/100\n",
            "25/25 [==============================] - 1s 19ms/step - loss: 1.7304 - mae: 2.1793 - lr: 1.0000e-05\n",
            "Epoch 8/100\n",
            "25/25 [==============================] - 1s 19ms/step - loss: 1.7007 - mae: 2.1488 - lr: 1.0000e-05\n",
            "Epoch 9/100\n",
            "25/25 [==============================] - 1s 19ms/step - loss: 1.6765 - mae: 2.1241 - lr: 1.0000e-05\n",
            "Epoch 10/100\n",
            "25/25 [==============================] - 1s 20ms/step - loss: 1.6610 - mae: 2.1082 - lr: 1.0000e-05\n",
            "Epoch 11/100\n",
            "25/25 [==============================] - 1s 19ms/step - loss: 1.6508 - mae: 2.0974 - lr: 1.0000e-05\n",
            "Epoch 12/100\n",
            "25/25 [==============================] - 1s 19ms/step - loss: 1.6416 - mae: 2.0881 - lr: 1.0000e-05\n",
            "Epoch 13/100\n",
            "25/25 [==============================] - 1s 20ms/step - loss: 1.6353 - mae: 2.0815 - lr: 1.0000e-05\n",
            "Epoch 14/100\n",
            "25/25 [==============================] - 1s 20ms/step - loss: 1.6285 - mae: 2.0745 - lr: 1.0000e-05\n",
            "Epoch 15/100\n",
            "25/25 [==============================] - 1s 19ms/step - loss: 1.6223 - mae: 2.0681 - lr: 1.0000e-05\n",
            "Epoch 16/100\n",
            "25/25 [==============================] - 1s 19ms/step - loss: 1.6212 - mae: 2.0668 - lr: 1.0000e-05\n",
            "Epoch 17/100\n",
            "25/25 [==============================] - 1s 19ms/step - loss: 1.6121 - mae: 2.0572 - lr: 1.0000e-05\n",
            "Epoch 18/100\n",
            "25/25 [==============================] - 1s 20ms/step - loss: 1.6088 - mae: 2.0540 - lr: 1.0000e-05\n",
            "Epoch 19/100\n",
            "25/25 [==============================] - 1s 19ms/step - loss: 1.6035 - mae: 2.0485 - lr: 1.0000e-05\n",
            "Epoch 20/100\n",
            "25/25 [==============================] - 1s 20ms/step - loss: 1.5972 - mae: 2.0421 - lr: 1.0000e-05\n",
            "Epoch 21/100\n",
            "25/25 [==============================] - 1s 19ms/step - loss: 1.5937 - mae: 2.0384 - lr: 1.0000e-05\n",
            "Epoch 22/100\n",
            "25/25 [==============================] - 1s 20ms/step - loss: 1.5912 - mae: 2.0359 - lr: 1.0000e-05\n",
            "Epoch 23/100\n",
            "25/25 [==============================] - 1s 18ms/step - loss: 1.5865 - mae: 2.0309 - lr: 1.0000e-05\n",
            "Epoch 24/100\n",
            "25/25 [==============================] - 1s 19ms/step - loss: 1.5833 - mae: 2.0275 - lr: 1.0000e-05\n",
            "Epoch 25/100\n",
            "25/25 [==============================] - 1s 19ms/step - loss: 1.5811 - mae: 2.0251 - lr: 1.0000e-05\n",
            "Epoch 26/100\n",
            "25/25 [==============================] - 1s 20ms/step - loss: 1.5765 - mae: 2.0204 - lr: 1.0000e-05\n",
            "Epoch 27/100\n",
            "25/25 [==============================] - 1s 19ms/step - loss: 1.5765 - mae: 2.0204 - lr: 1.0000e-05\n",
            "Epoch 28/100\n",
            "25/25 [==============================] - 1s 20ms/step - loss: 1.5712 - mae: 2.0148 - lr: 1.0000e-05\n",
            "Epoch 29/100\n",
            "25/25 [==============================] - 1s 20ms/step - loss: 1.5675 - mae: 2.0108 - lr: 1.0000e-05\n",
            "Epoch 30/100\n",
            "25/25 [==============================] - 1s 19ms/step - loss: 1.5728 - mae: 2.0164 - lr: 1.0000e-05\n",
            "Epoch 31/100\n",
            "25/25 [==============================] - 1s 20ms/step - loss: 1.5668 - mae: 2.0104 - lr: 1.0000e-05\n",
            "Epoch 32/100\n",
            "25/25 [==============================] - 1s 19ms/step - loss: 1.5608 - mae: 2.0035 - lr: 1.0000e-05\n",
            "Epoch 33/100\n",
            "25/25 [==============================] - 1s 19ms/step - loss: 1.5558 - mae: 1.9983 - lr: 1.0000e-05\n",
            "Epoch 34/100\n",
            "25/25 [==============================] - 1s 18ms/step - loss: 1.5553 - mae: 1.9978 - lr: 1.0000e-05\n",
            "Epoch 35/100\n",
            "25/25 [==============================] - 1s 20ms/step - loss: 1.5542 - mae: 1.9965 - lr: 1.0000e-05\n",
            "Epoch 36/100\n",
            "25/25 [==============================] - 1s 19ms/step - loss: 1.5499 - mae: 1.9921 - lr: 1.0000e-05\n",
            "Epoch 37/100\n",
            "25/25 [==============================] - 1s 19ms/step - loss: 1.5481 - mae: 1.9899 - lr: 1.0000e-05\n",
            "Epoch 38/100\n",
            "25/25 [==============================] - 1s 20ms/step - loss: 1.5457 - mae: 1.9875 - lr: 1.0000e-05\n",
            "Epoch 39/100\n",
            "25/25 [==============================] - 1s 19ms/step - loss: 1.5442 - mae: 1.9861 - lr: 1.0000e-05\n",
            "Epoch 40/100\n",
            "25/25 [==============================] - 1s 18ms/step - loss: 1.5432 - mae: 1.9845 - lr: 1.0000e-05\n",
            "Epoch 41/100\n",
            "25/25 [==============================] - 1s 20ms/step - loss: 1.5434 - mae: 1.9852 - lr: 1.0000e-05\n",
            "Epoch 42/100\n",
            "25/25 [==============================] - 1s 20ms/step - loss: 1.5385 - mae: 1.9798 - lr: 1.0000e-05\n",
            "Epoch 43/100\n",
            "25/25 [==============================] - 1s 20ms/step - loss: 1.5388 - mae: 1.9804 - lr: 1.0000e-05\n",
            "Epoch 44/100\n",
            "25/25 [==============================] - 1s 19ms/step - loss: 1.5376 - mae: 1.9789 - lr: 1.0000e-05\n",
            "Epoch 45/100\n",
            "25/25 [==============================] - 1s 19ms/step - loss: 1.5373 - mae: 1.9790 - lr: 1.0000e-05\n",
            "Epoch 46/100\n",
            "25/25 [==============================] - 1s 20ms/step - loss: 1.5347 - mae: 1.9760 - lr: 1.0000e-05\n",
            "Epoch 47/100\n",
            "25/25 [==============================] - 1s 20ms/step - loss: 1.5328 - mae: 1.9739 - lr: 1.0000e-05\n",
            "Epoch 48/100\n",
            "25/25 [==============================] - 1s 21ms/step - loss: 1.5292 - mae: 1.9700 - lr: 1.0000e-05\n",
            "Epoch 49/100\n",
            "25/25 [==============================] - 1s 19ms/step - loss: 1.5339 - mae: 1.9758 - lr: 1.0000e-05\n",
            "Epoch 50/100\n",
            "25/25 [==============================] - 1s 20ms/step - loss: 1.5269 - mae: 1.9677 - lr: 1.0000e-05\n",
            "Epoch 51/100\n",
            "25/25 [==============================] - 1s 19ms/step - loss: 1.5323 - mae: 1.9737 - lr: 1.0000e-05\n",
            "Epoch 52/100\n",
            "25/25 [==============================] - 1s 20ms/step - loss: 1.5235 - mae: 1.9639 - lr: 1.0000e-05\n",
            "Epoch 53/100\n",
            "25/25 [==============================] - 1s 20ms/step - loss: 1.5226 - mae: 1.9629 - lr: 1.0000e-05\n",
            "Epoch 54/100\n",
            "25/25 [==============================] - 1s 19ms/step - loss: 1.5242 - mae: 1.9650 - lr: 1.0000e-05\n",
            "Epoch 55/100\n",
            "25/25 [==============================] - 1s 20ms/step - loss: 1.5203 - mae: 1.9607 - lr: 1.0000e-05\n",
            "Epoch 56/100\n",
            "25/25 [==============================] - 1s 20ms/step - loss: 1.5190 - mae: 1.9593 - lr: 1.0000e-05\n",
            "Epoch 57/100\n",
            "25/25 [==============================] - 1s 19ms/step - loss: 1.5183 - mae: 1.9588 - lr: 1.0000e-05\n",
            "Epoch 58/100\n",
            "25/25 [==============================] - 1s 20ms/step - loss: 1.5202 - mae: 1.9613 - lr: 1.0000e-05\n",
            "Epoch 59/100\n",
            "25/25 [==============================] - 1s 19ms/step - loss: 1.5163 - mae: 1.9565 - lr: 1.0000e-05\n",
            "Epoch 60/100\n",
            "25/25 [==============================] - 1s 19ms/step - loss: 1.5137 - mae: 1.9534 - lr: 1.0000e-05\n",
            "Epoch 61/100\n",
            "25/25 [==============================] - 1s 19ms/step - loss: 1.5132 - mae: 1.9531 - lr: 1.0000e-05\n",
            "Epoch 62/100\n",
            "25/25 [==============================] - 1s 19ms/step - loss: 1.5138 - mae: 1.9537 - lr: 1.0000e-05\n",
            "Epoch 63/100\n",
            "25/25 [==============================] - 1s 21ms/step - loss: 1.5115 - mae: 1.9516 - lr: 1.0000e-05\n",
            "Epoch 64/100\n",
            "25/25 [==============================] - 1s 18ms/step - loss: 1.5119 - mae: 1.9519 - lr: 1.0000e-05\n",
            "Epoch 65/100\n",
            "25/25 [==============================] - 1s 19ms/step - loss: 1.5097 - mae: 1.9498 - lr: 1.0000e-05\n",
            "Epoch 66/100\n",
            "25/25 [==============================] - 1s 19ms/step - loss: 1.5087 - mae: 1.9486 - lr: 1.0000e-05\n",
            "Epoch 67/100\n",
            "25/25 [==============================] - 1s 20ms/step - loss: 1.5097 - mae: 1.9499 - lr: 1.0000e-05\n",
            "Epoch 68/100\n",
            "25/25 [==============================] - 1s 19ms/step - loss: 1.5168 - mae: 1.9582 - lr: 1.0000e-05\n",
            "Epoch 69/100\n",
            "25/25 [==============================] - 1s 19ms/step - loss: 1.5102 - mae: 1.9509 - lr: 1.0000e-05\n",
            "Epoch 70/100\n",
            "25/25 [==============================] - 1s 18ms/step - loss: 1.5049 - mae: 1.9448 - lr: 1.0000e-05\n",
            "Epoch 71/100\n",
            "25/25 [==============================] - 1s 20ms/step - loss: 1.5046 - mae: 1.9447 - lr: 1.0000e-05\n",
            "Epoch 72/100\n",
            "25/25 [==============================] - 1s 20ms/step - loss: 1.5049 - mae: 1.9452 - lr: 1.0000e-05\n",
            "Epoch 73/100\n",
            "25/25 [==============================] - 1s 20ms/step - loss: 1.5020 - mae: 1.9421 - lr: 1.0000e-05\n",
            "Epoch 74/100\n",
            "25/25 [==============================] - 1s 20ms/step - loss: 1.5002 - mae: 1.9402 - lr: 1.0000e-05\n",
            "Epoch 75/100\n",
            "25/25 [==============================] - 1s 19ms/step - loss: 1.4996 - mae: 1.9395 - lr: 1.0000e-05\n",
            "Epoch 76/100\n",
            "25/25 [==============================] - 1s 20ms/step - loss: 1.5004 - mae: 1.9399 - lr: 1.0000e-05\n",
            "Epoch 77/100\n",
            "25/25 [==============================] - 1s 21ms/step - loss: 1.4981 - mae: 1.9381 - lr: 1.0000e-05\n",
            "Epoch 78/100\n",
            "25/25 [==============================] - 1s 23ms/step - loss: 1.4979 - mae: 1.9380 - lr: 1.0000e-05\n",
            "Epoch 79/100\n",
            "25/25 [==============================] - 1s 23ms/step - loss: 1.4948 - mae: 1.9344 - lr: 1.0000e-05\n",
            "Epoch 80/100\n",
            "25/25 [==============================] - 1s 22ms/step - loss: 1.4936 - mae: 1.9335 - lr: 1.0000e-05\n",
            "Epoch 81/100\n",
            "25/25 [==============================] - 1s 34ms/step - loss: 1.4966 - mae: 1.9366 - lr: 1.0000e-05\n",
            "Epoch 82/100\n",
            "25/25 [==============================] - 1s 21ms/step - loss: 1.4944 - mae: 1.9343 - lr: 1.0000e-05\n",
            "Epoch 83/100\n",
            "25/25 [==============================] - 1s 20ms/step - loss: 1.4936 - mae: 1.9335 - lr: 1.0000e-05\n",
            "Epoch 84/100\n",
            "25/25 [==============================] - 1s 20ms/step - loss: 1.4937 - mae: 1.9337 - lr: 1.0000e-05\n",
            "Epoch 85/100\n",
            "25/25 [==============================] - 1s 20ms/step - loss: 1.4913 - mae: 1.9314 - lr: 1.0000e-05\n",
            "Epoch 86/100\n",
            "25/25 [==============================] - 1s 20ms/step - loss: 1.4908 - mae: 1.9307 - lr: 1.0000e-05\n",
            "Epoch 87/100\n",
            "25/25 [==============================] - 1s 21ms/step - loss: 1.4914 - mae: 1.9316 - lr: 1.0000e-05\n",
            "Epoch 88/100\n",
            "25/25 [==============================] - 1s 19ms/step - loss: 1.4899 - mae: 1.9298 - lr: 1.0000e-05\n",
            "Epoch 89/100\n",
            "25/25 [==============================] - 1s 21ms/step - loss: 1.4910 - mae: 1.9309 - lr: 1.0000e-05\n",
            "Epoch 90/100\n",
            "25/25 [==============================] - 1s 20ms/step - loss: 1.4919 - mae: 1.9321 - lr: 1.0000e-05\n",
            "Epoch 91/100\n",
            "25/25 [==============================] - 1s 19ms/step - loss: 1.4868 - mae: 1.9268 - lr: 1.0000e-05\n",
            "Epoch 92/100\n",
            "25/25 [==============================] - 1s 20ms/step - loss: 1.4865 - mae: 1.9265 - lr: 1.0000e-05\n",
            "Epoch 93/100\n",
            "25/25 [==============================] - 1s 20ms/step - loss: 1.4911 - mae: 1.9313 - lr: 1.0000e-05\n",
            "Epoch 94/100\n",
            "25/25 [==============================] - 1s 19ms/step - loss: 1.4869 - mae: 1.9271 - lr: 1.0000e-05\n",
            "Epoch 95/100\n",
            "25/25 [==============================] - 1s 19ms/step - loss: 1.4913 - mae: 1.9320 - lr: 1.0000e-05\n",
            "Epoch 96/100\n",
            "25/25 [==============================] - 1s 19ms/step - loss: 1.4889 - mae: 1.9295 - lr: 1.0000e-05\n",
            "Epoch 97/100\n",
            "25/25 [==============================] - 1s 18ms/step - loss: 1.4845 - mae: 1.9247 - lr: 1.0000e-05\n",
            "Epoch 98/100\n",
            "25/25 [==============================] - 1s 19ms/step - loss: 1.4835 - mae: 1.9237 - lr: 1.0000e-05\n",
            "Epoch 99/100\n",
            "25/25 [==============================] - 1s 34ms/step - loss: 1.4872 - mae: 1.9275 - lr: 1.0000e-05\n",
            "Epoch 100/100\n",
            "25/25 [==============================] - 1s 28ms/step - loss: 1.4824 - mae: 1.9225 - lr: 1.0000e-05\n"
          ]
        }
      ]
    },
    {
      "cell_type": "code",
      "metadata": {
        "id": "GaC6NNMRp0lb"
      },
      "source": [
        "rnn_forecast = model_forecast(model, series[..., np.newaxis], window_size)\n",
        "rnn_forecast = rnn_forecast[split_time - window_size:-1, -1, 0]"
      ],
      "execution_count": 50,
      "outputs": []
    },
    {
      "cell_type": "code",
      "metadata": {
        "id": "izy6wl2S9d-2",
        "outputId": "272ce006-1f73-4cdd-ced1-784a21893116",
        "colab": {
          "base_uri": "https://localhost:8080/",
          "height": 389
        }
      },
      "source": [
        "plt.figure(figsize=(10, 6))\n",
        "plot_series(time_valid, x_valid)\n",
        "plot_series(time_valid, rnn_forecast)\n",
        "\n",
        "# EXPECTED OUTPUT. PLOT SHOULD SHOW PROJECTIONS FOLLOWING ORIGINAL DATA CLOSELY"
      ],
      "execution_count": 51,
      "outputs": [
        {
          "output_type": "display_data",
          "data": {
            "image/png": "[encoded data removed]",
            "text/plain": [
              "<Figure size 720x432 with 1 Axes>"
            ]
          },
          "metadata": {
            "needs_background": "light"
          }
        }
      ]
    },
    {
      "cell_type": "code",
      "metadata": {
        "id": "13XrorC5wQoE",
        "outputId": "8298761c-1cd1-451c-bb48-22a4b9f981bd",
        "colab": {
          "base_uri": "https://localhost:8080/"
        }
      },
      "source": [
        "tf.keras.metrics.mean_absolute_error(x_valid, rnn_forecast).numpy()\n",
        "\n",
        "# EXPECTED OUTPUT MAE < 2 -- I GOT 1.789626"
      ],
      "execution_count": 52,
      "outputs": [
        {
          "output_type": "execute_result",
          "data": {
            "text/plain": [
              "1.7983568"
            ]
          },
          "metadata": {},
          "execution_count": 52
        }
      ]
    },
    {
      "cell_type": "code",
      "metadata": {
        "id": "AOVzQXxCwkzP",
        "outputId": "013a82eb-6e3c-4ec1-a760-100643828fed",
        "colab": {
          "base_uri": "https://localhost:8080/"
        }
      },
      "source": [
        "print(rnn_forecast)\n",
        "# EXPECTED OUTPUT -- ARRAY OF VALUES IN THE LOW TEENS"
      ],
      "execution_count": 53,
      "outputs": [
        {
          "output_type": "stream",
          "name": "stdout",
          "text": [
            "[11.987527 11.096236 11.929293 ... 13.537365 13.710463 14.955529]\n"
          ]
        }
      ]
    },
    {
      "cell_type": "code",
      "source": [
        ""
      ],
      "metadata": {
        "id": "WU_QFgCD0OBF"
      },
      "execution_count": null,
      "outputs": []
    }
  ]
}